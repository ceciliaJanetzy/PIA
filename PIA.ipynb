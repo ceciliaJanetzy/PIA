{
  "nbformat": 4,
  "nbformat_minor": 0,
  "metadata": {
    "colab": {
      "provenance": []
    },
    "kernelspec": {
      "name": "python3",
      "display_name": "Python 3"
    },
    "language_info": {
      "name": "python"
    }
  },
  "cells": [
    {
      "cell_type": "code",
      "execution_count": null,
      "metadata": {
        "id": "uoD7t6GnFIzu"
      },
      "outputs": [],
      "source": [
        "# Declaraciones generales\n",
        "import re"
      ]
    },
    {
      "cell_type": "markdown",
      "source": [
        "### **MENÚ DE LA APLICACIÓN**\n",
        "\n",
        "Lo primero que debe aparecer es el menú de la aplicación.\n",
        "\n",
        "```\n",
        "**** MENÚ PRINCIPAL ****\n",
        "\n",
        "[A] Registrar un asistente.\n",
        "[B] Registrar asistente a un evento.\n",
        "[C] Registrar asistencia al evento.\n",
        "[D] Ver eventos del alumno.\n",
        "[E] Listado de asistencia a evento.\n",
        "[X] Salir\n",
        "\n",
        "¿QUÉ OPCIÓN DESEAS?:\n",
        "\n",
        "```"
      ],
      "metadata": {
        "id": "fzQg9MXYGKMq"
      }
    },
    {
      "cell_type": "code",
      "source": [
        "def elegir_letra(prompt:str='SELECCIONA UNA LETRA: ',opciones_validas:str='12345'):\n",
        "        while True:\n",
        "            opcion=input(prompt)\n",
        "            opcion=opcion.upper()\n",
        "            if (opcion==''):\n",
        "                print('NO SE PUEDE OMITIR. INTENTAR DE NUEVO')\n",
        "                continue\n",
        "            if not bool(re.match(f'^[{opciones_validas}]$',opcion)):\n",
        "                print('NO SE RECONOCIO LA OPERACIÓN. INTENTAR DE NUEVO')\n",
        "                continue\n",
        "            # PARA TERMINAR EL CICLO\n",
        "            break\n",
        "        return opcion"
      ],
      "metadata": {
        "id": "w9yVcb77GNfq"
      },
      "execution_count": null,
      "outputs": []
    },
    {
      "cell_type": "code",
      "source": [
        "def mostrar_menu(opciones:dict,titulo:str='OPCIONES DISPONIBLES'):\n",
        "\n",
        "    print(titulo)\n",
        "    opciones_validas=''\n",
        "    for k,v in opciones.items():\n",
        "        print(f'[{k}] {v}')\n",
        "        opciones_validas=f'{opciones_validas}{k}'\n",
        "\n",
        "    opc=elegir_letra('¿QUÉ OPCIÓN DESEAS?: ', opciones_validas)\n",
        "    return opc"
      ],
      "metadata": {
        "id": "LA3yd35LaLuF"
      },
      "execution_count": null,
      "outputs": []
    },
    {
      "cell_type": "markdown",
      "source": [
        "## **REGISTRAR ASISTENTE**\n",
        "\n",
        "Aparece el siguiente menú:\n",
        "\n",
        "```\n",
        "[A] Registrar nuevo asistente.\n",
        "[B] Eliminar asistente.\n",
        "[C] Modificar datos de asistente.\n",
        "[D] Consultar asistente.\n",
        "[X] Regresar al menú principal.\n",
        "\n",
        "¿QUÉ DESEAS HACER?:\n",
        "```"
      ],
      "metadata": {
        "id": "2XXQ9ZzUUgVf"
      }
    },
    {
      "cell_type": "code",
      "source": [
        "def agregar_asistente(self, matricula, nombre, apellido1, apellido2, fecha_nacimiento, carrera):\n",
        "    self.asistentes[matricula] = {\n",
        "        'nombre': nombre,\n",
        "        'apellido1': apellido1,\n",
        "        'apellido2': apellido2,\n",
        "        'fecha_nacimiento': fecha_nacimiento,\n",
        "        'carrera': carrera,\n",
        "     }"
      ],
      "metadata": {
        "id": "opeEGpp3v8at"
      },
      "execution_count": null,
      "outputs": []
    },
    {
      "cell_type": "code",
      "source": [
        "def eliminar_asistente(self, matricula):\n",
        "    if matricula in self.asistentes:\n",
        "      del self.asistentes[matricula]"
      ],
      "metadata": {
        "id": "PHr20DFQw9Yw"
      },
      "execution_count": null,
      "outputs": []
    },
    {
      "cell_type": "code",
      "source": [
        "def actualizar_asistente(self, matricula, nueva_informacion):\n",
        "    if matricula in self.asistentes:\n",
        "      self.asistentes[matricula].update(nueva_informacion)"
      ],
      "metadata": {
        "id": "6NwRusGIw93H"
      },
      "execution_count": null,
      "outputs": []
    },
    {
      "cell_type": "code",
      "source": [
        "def mostrar_info_asistente(self, matricula):\n",
        "    if matricula in self.asistentes:\n",
        "        return self.asistentes[matricula]\n",
        "    else:\n",
        "        return None"
      ],
      "metadata": {
        "id": "O2ZtMPcHw-G5"
      },
      "execution_count": null,
      "outputs": []
    },
    {
      "cell_type": "code",
      "source": [
        "def registrar_asistente_a_evento(self, matricula, evento, auditorio, fecha, hora):\n",
        "    key = (matricula, evento)\n",
        "    if key not in self.registros:\n",
        "    # Verificar la capacidad del auditorio\n",
        "     if auditorio in ['A', 'B', 'C']:\n",
        "        capacidad_auditorio = {'A': 1000, 'B': 200, 'C': 150}[auditorio]\n",
        "        if len([r for r in self.registros.values() if r['auditorio'] == auditorio]) < capacidad_auditorio:\n",
        "            self.registros[key] = {\n",
        "                'AUDITORIO: ': auditorio,\n",
        "                'FECHA: ': fecha,\n",
        "                'HORA: ': hora,\n",
        "           }\n",
        "            return True\n",
        "    return False"
      ],
      "metadata": {
        "id": "7yXtToFEeGfT"
      },
      "execution_count": null,
      "outputs": []
    },
    {
      "cell_type": "code",
      "source": [
        "# PROGRAMA PRINCIPAL\n",
        "\n",
        "opciones_menu_principal={\n",
        "    'A':'Registrar un asistente',\n",
        "    'B':'Registrar asistente a un evento',\n",
        "    'C':'Registrar asistencia al evento',\n",
        "    'D':'Ver eventos del alumno',\n",
        "    'E':'Listado de asistencia',\n",
        "    'X':'Salir\\n'\n",
        "}\n",
        "\n",
        "opciones_menu_asistentes={\n",
        "    'A':'Registrar un asistente',\n",
        "    'X':'Salir\\n'\n",
        "}\n",
        "\n",
        "opcion_registrar_evento={\n",
        "    'B':'Registrar asistente a un evento',\n",
        "    'X':'Salir\\n'\n",
        "}\n",
        "\n",
        "opcion_registrar_asistencia={\n",
        "    'C':'Registrar asistencia a un evento',\n",
        "    'X':'Salir\\n'\n",
        "}\n",
        "\n",
        "while True:\n",
        "    opcion_elegida=mostrar_menu(opciones_menu_principal, '\\n** MENÚ PRINCIPAL\\n')\n",
        "    match opcion_elegida:\n",
        "        case 'A':\n",
        "            while True:\n",
        "                opcion_elegida_asistente=mostrar_menu(opciones_menu_asistentes, '\\n** MENÚ ASISTENTES\\n')\n",
        "                match opcion_elegida_asistente:\n",
        "                    case 'A':\n",
        "                      from IPython.core.excolors import exception_colors\n",
        "                      conferencias={\n",
        "                          1:['04/11/2023 15:00','Inteligencia Artificial en los Negocios',\n",
        "                            'Dr. Alvaro Francisco Salazar', 'A', 0],\n",
        "                          2:['05/11/2023 09:00','Uso de la nube para gestión de procesos',\n",
        "                            'Dr. Manuel Leos','B',0],\n",
        "                          3:['05/11/2023 14:00','Industria 4.0 retos y oportunidades',\n",
        "                            'Dra. Monica Hernández','C',20],\n",
        "                          4:['05/11/2023 19:00','Machine Learning for a better world',\n",
        "                            'Dr. Janick Jameson','C',0],\n",
        "                          5:['06/11/2023 15:00','Retos de la Banca Electrónica en México',\n",
        "                            'Ing. Clara Benavides','A',0]\n",
        "                      }\n",
        "\n",
        "                      conferencia=0\n",
        "                      while True:\n",
        "                          _conferencia=input('¿A QUÉ CONFERENCIA DESEAS INSCRIBIRTE?: ')\n",
        "                          # Validar que no se omita\n",
        "                          if (_conferencia==''):\n",
        "                              print('CONFERENCIA NO VÁLIDA. INTENTAR DE NUEVO')\n",
        "                              continue\n",
        "                          # Validar que sea entero.\n",
        "                          try:\n",
        "                              conferencia=int(_conferencia)\n",
        "                          except:\n",
        "                              print('DEBE SER UN ENTERO. INTENTAR DE NUEVO')\n",
        "                              continue\n",
        "                          # Validar que la conferencia exista\n",
        "                          if not (conferencia in conferencias):\n",
        "                              print('NO EXISTE LA CONFERENCIA. INTENTAR DE NUEVO')\n",
        "                              continue\n",
        "                          # Si capturé una conferencia existente, que la despliegue.\n",
        "                          break\n",
        "\n",
        "                      print('CONFERENCIA ENCONTRADA CON ÉXITO')\n",
        "\n",
        "                    case 'X':\n",
        "                        break\n",
        "                    case _:\n",
        "                        print('NO SE RECONOCE LA OPERACIÓN')\n",
        "                        continue\n",
        "        case 'B':\n",
        "            while True:\n",
        "                opcion_elegida_evento=mostrar_menu(opcion_registrar_evento, '\\n** NUEVO ASISTENTE AL EVENTO\\n')\n",
        "                match opcion_elegida_evento:\n",
        "                    case 'B':\n",
        "                      nuevos_asistentes = []\n",
        "                      registrar_asistentes = int(input('ASISTENTES QUE DESEAS REGISTRAR: '))\n",
        "                      nuevos_asistentes.append(registrar_asistentes)\n",
        "                    case 'X':\n",
        "                        break\n",
        "                    case _:\n",
        "                        print('NO SE RECONOCE LA OPERACIÓN')\n",
        "                        continue\n",
        "        case 'C':\n",
        "            while True:\n",
        "                opcion_elegida_asistencia=mostrar_menu(opcion_registrar_asistencia, '\\n** REGISTRO DE ASISTENCIA\\n')\n",
        "                match opcion_elegida_asistencia:\n",
        "                    case 'C':\n",
        "                      ()\n",
        "                    case 'X':\n",
        "                        break\n",
        "                    case _:\n",
        "                        print('NO SE RECONOCE LA OPERACIÓN')\n",
        "                        continue\n",
        "        case 'X':\n",
        "            print('GRACIAS POR USAR EL SISTEMA')\n",
        "            break\n",
        "        case _:\n",
        "            print('NO SE RECONOCE LA OPERACIÓN')\n",
        "            continue"
      ],
      "metadata": {
        "id": "rV6UNZmoU1_l"
      },
      "execution_count": null,
      "outputs": []
    },
    {
      "cell_type": "markdown",
      "source": [
        "## **REPRESENTACIÓN DE DATOS**\n",
        "1. A: Gumersindo Cantú Hinojosa, con capacidad de 1000 asistentes.\n",
        "1. B: Víctor Gómez, con capacidad de 200 asistentes.\n",
        "1. C: Casas Alatriste, con capacidad de 150 asistentes."
      ],
      "metadata": {
        "id": "pm2JivQ5NP_T"
      }
    },
    {
      "cell_type": "code",
      "source": [
        "# Representación de auditorios en un diccionario.\n",
        "auditorios={\n",
        "    'A': ['Gumersindo Cantú Hinojosa', 1000],\n",
        "    'B': ['Víctor Gómez', 200],\n",
        "    'C': ['Casas Alatriste', 150]\n",
        "}"
      ],
      "metadata": {
        "id": "RzfcWf2UNO63"
      },
      "execution_count": null,
      "outputs": []
    },
    {
      "cell_type": "markdown",
      "source": [
        "## **Representar los días de conferencias y su horario**\n",
        "1. 4 de noviembre, a las 15:00 horas. Inteligencia Artificial en los Negocios. Dr. Alvaro Francisco Salazar, en el auditorio A.\n",
        "1. 5 de noviembre, a las 9:00 horas. Uso de la nube para gestión de procesos. Dr. Manuel Leos, en el auditorio B.\n",
        "1. 5 de noviembre, a las 14:00 horas. Industria 4.0 retos y oportunidades. Dra. Monica Hernández, en el auditorio C.\n",
        "1. 5 de noviembre, a las 19:00 horas. Machine Learning for a better world. Dr. Janick Jameson, en el auditorio C.\n",
        "1. 6 de noviembre, a las 15:00 horas. Retos de la Banca Electrónica en México. Ing. Clara Benavides, en el auditorio A."
      ],
      "metadata": {
        "id": "tssOfSVaNmOW"
      }
    },
    {
      "cell_type": "code",
      "source": [
        "def info_disponibilidad(conferencia_deseada:int):\n",
        "    datos_conferencia=conferencias.get(conferencia_deseada,'')\n",
        "    print(f'CONFERENCIA: {datos_conferencia[1]}')\n",
        "    print(f'EXPOSITOR: {datos_conferencia[2]}')\n",
        "    print(f'FECHA: {datos_conferencia[0]}')\n",
        "    nombre_auditorio=auditorios.get(datos_conferencia[3],'')[0]\n",
        "    capacidad_auditorio=auditorios.get(datos_conferencia[3],'')[1]\n",
        "    lugares_disponibles=capacidad_auditorio-datos_conferencia[4]\n",
        "    print(f'AUDITORIO: {nombre_auditorio}')\n",
        "    print(f'LUGARES DISPONIBLES: {lugares_disponibles:,}')\n",
        "    return lugares_disponibles\n",
        "\n",
        "disponibilidad=info_disponibilidad(conferencia)"
      ],
      "metadata": {
        "colab": {
          "base_uri": "https://localhost:8080/"
        },
        "id": "9AKjtnu6wO6C",
        "outputId": "bd9dea66-fba5-4f09-fe35-1644664aed2e"
      },
      "execution_count": null,
      "outputs": [
        {
          "output_type": "stream",
          "name": "stdout",
          "text": [
            "CONFERENCIA: Industria 4.0 retos y oportunidades\n",
            "EXPOSITOR: Dra. Monica Hernández\n",
            "FECHA: 05/11/2023 14:00\n",
            "AUDITORIO: Casas Alatriste\n",
            "LUGARES DISPONIBLES: 120\n"
          ]
        }
      ]
    },
    {
      "cell_type": "markdown",
      "source": [
        "**Si se registran más se debe de hacer:**"
      ],
      "metadata": {
        "id": "hiaL2bUMT8wt"
      }
    },
    {
      "cell_type": "code",
      "source": [
        "def inscribir(conferencia_destino:int,cant:int=0):\n",
        "    conferencias[conferencia_destino][4]+=cant\n",
        "\n",
        "nuevos_asistentes=5\n",
        "disponibilidad=disponibilidad=info_disponibilidad(conferencia)\n",
        "\n",
        "if (disponibilidad>=nuevos_asistentes):\n",
        "    inscribir(conferencia,nuevos_asistentes)\n",
        "\n",
        "disponibilidad=info_disponibilidad(conferencia)"
      ],
      "metadata": {
        "colab": {
          "base_uri": "https://localhost:8080/"
        },
        "id": "kuJGWsrJUEs4",
        "outputId": "e2117b0b-f591-4b65-d863-bf06c71b3c29"
      },
      "execution_count": null,
      "outputs": [
        {
          "output_type": "stream",
          "name": "stdout",
          "text": [
            "CONFERENCIA: Machine Learning for a better world\n",
            "EXPOSITOR: Dr. Janick Jameson\n",
            "FECHA: 05/11/2023 19:00\n",
            "AUDITORIO: Casas Alatriste\n",
            "LUGARES DISPONIBLES: 150\n",
            "CONFERENCIA: Machine Learning for a better world\n",
            "EXPOSITOR: Dr. Janick Jameson\n",
            "FECHA: 05/11/2023 19:00\n",
            "AUDITORIO: Casas Alatriste\n",
            "LUGARES DISPONIBLES: 145\n"
          ]
        }
      ]
    }
  ]
}